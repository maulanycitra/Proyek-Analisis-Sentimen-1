{
 "cells": [
  {
   "cell_type": "code",
   "execution_count": 1,
   "id": "5d555a89-859c-42b9-8e34-dcdab3f1dc00",
   "metadata": {},
   "outputs": [
    {
     "name": "stdout",
     "output_type": "stream",
     "text": [
      "Requirement already satisfied: google-play-scraper in c:\\users\\citra\\appdata\\local\\programs\\python\\python311\\lib\\site-packages (1.2.7)\n"
     ]
    },
    {
     "name": "stderr",
     "output_type": "stream",
     "text": [
      "\n",
      "[notice] A new release of pip is available: 24.0 -> 25.1.1\n",
      "[notice] To update, run: python.exe -m pip install --upgrade pip\n"
     ]
    },
    {
     "name": "stdout",
     "output_type": "stream",
     "text": [
      "Requirement already satisfied: snscrape in c:\\users\\citra\\appdata\\local\\programs\\python\\python311\\lib\\site-packages (0.7.0.20230622)\n",
      "Requirement already satisfied: requests[socks] in c:\\users\\citra\\appdata\\local\\programs\\python\\python311\\lib\\site-packages (from snscrape) (2.32.3)\n",
      "Requirement already satisfied: lxml in c:\\users\\citra\\appdata\\local\\programs\\python\\python311\\lib\\site-packages (from snscrape) (5.4.0)\n",
      "Requirement already satisfied: beautifulsoup4 in c:\\users\\citra\\appdata\\local\\programs\\python\\python311\\lib\\site-packages (from snscrape) (4.13.4)\n",
      "Requirement already satisfied: filelock in c:\\users\\citra\\appdata\\local\\programs\\python\\python311\\lib\\site-packages (from snscrape) (3.18.0)\n",
      "Requirement already satisfied: soupsieve>1.2 in c:\\users\\citra\\appdata\\local\\programs\\python\\python311\\lib\\site-packages (from beautifulsoup4->snscrape) (2.7)\n",
      "Requirement already satisfied: typing-extensions>=4.0.0 in c:\\users\\citra\\appdata\\local\\programs\\python\\python311\\lib\\site-packages (from beautifulsoup4->snscrape) (4.13.2)\n",
      "Requirement already satisfied: charset-normalizer<4,>=2 in c:\\users\\citra\\appdata\\local\\programs\\python\\python311\\lib\\site-packages (from requests[socks]->snscrape) (3.4.2)\n",
      "Requirement already satisfied: idna<4,>=2.5 in c:\\users\\citra\\appdata\\local\\programs\\python\\python311\\lib\\site-packages (from requests[socks]->snscrape) (3.10)\n",
      "Requirement already satisfied: urllib3<3,>=1.21.1 in c:\\users\\citra\\appdata\\local\\programs\\python\\python311\\lib\\site-packages (from requests[socks]->snscrape) (2.4.0)\n",
      "Requirement already satisfied: certifi>=2017.4.17 in c:\\users\\citra\\appdata\\local\\programs\\python\\python311\\lib\\site-packages (from requests[socks]->snscrape) (2025.4.26)\n",
      "Requirement already satisfied: PySocks!=1.5.7,>=1.5.6 in c:\\users\\citra\\appdata\\local\\programs\\python\\python311\\lib\\site-packages (from requests[socks]->snscrape) (1.7.1)\n"
     ]
    },
    {
     "name": "stderr",
     "output_type": "stream",
     "text": [
      "\n",
      "[notice] A new release of pip is available: 24.0 -> 25.1.1\n",
      "[notice] To update, run: python.exe -m pip install --upgrade pip\n"
     ]
    },
    {
     "name": "stdout",
     "output_type": "stream",
     "text": [
      "Requirement already satisfied: pandas in c:\\users\\citra\\appdata\\local\\programs\\python\\python311\\lib\\site-packages (2.2.3)\n",
      "Requirement already satisfied: numpy>=1.23.2 in c:\\users\\citra\\appdata\\local\\programs\\python\\python311\\lib\\site-packages (from pandas) (2.1.3)\n",
      "Requirement already satisfied: python-dateutil>=2.8.2 in c:\\users\\citra\\appdata\\local\\programs\\python\\python311\\lib\\site-packages (from pandas) (2.9.0.post0)\n",
      "Requirement already satisfied: pytz>=2020.1 in c:\\users\\citra\\appdata\\local\\programs\\python\\python311\\lib\\site-packages (from pandas) (2025.2)\n",
      "Requirement already satisfied: tzdata>=2022.7 in c:\\users\\citra\\appdata\\local\\programs\\python\\python311\\lib\\site-packages (from pandas) (2025.2)\n",
      "Requirement already satisfied: six>=1.5 in c:\\users\\citra\\appdata\\local\\programs\\python\\python311\\lib\\site-packages (from python-dateutil>=2.8.2->pandas) (1.17.0)\n"
     ]
    },
    {
     "name": "stderr",
     "output_type": "stream",
     "text": [
      "\n",
      "[notice] A new release of pip is available: 24.0 -> 25.1.1\n",
      "[notice] To update, run: python.exe -m pip install --upgrade pip\n"
     ]
    },
    {
     "name": "stdout",
     "output_type": "stream",
     "text": [
      "Requirement already satisfied: requests in c:\\users\\citra\\appdata\\local\\programs\\python\\python311\\lib\\site-packages (2.32.3)\n",
      "Requirement already satisfied: beautifulsoup4 in c:\\users\\citra\\appdata\\local\\programs\\python\\python311\\lib\\site-packages (4.13.4)\n",
      "Requirement already satisfied: charset-normalizer<4,>=2 in c:\\users\\citra\\appdata\\local\\programs\\python\\python311\\lib\\site-packages (from requests) (3.4.2)\n",
      "Requirement already satisfied: idna<4,>=2.5 in c:\\users\\citra\\appdata\\local\\programs\\python\\python311\\lib\\site-packages (from requests) (3.10)\n",
      "Requirement already satisfied: urllib3<3,>=1.21.1 in c:\\users\\citra\\appdata\\local\\programs\\python\\python311\\lib\\site-packages (from requests) (2.4.0)\n",
      "Requirement already satisfied: certifi>=2017.4.17 in c:\\users\\citra\\appdata\\local\\programs\\python\\python311\\lib\\site-packages (from requests) (2025.4.26)\n",
      "Requirement already satisfied: soupsieve>1.2 in c:\\users\\citra\\appdata\\local\\programs\\python\\python311\\lib\\site-packages (from beautifulsoup4) (2.7)\n",
      "Requirement already satisfied: typing-extensions>=4.0.0 in c:\\users\\citra\\appdata\\local\\programs\\python\\python311\\lib\\site-packages (from beautifulsoup4) (4.13.2)\n"
     ]
    },
    {
     "name": "stderr",
     "output_type": "stream",
     "text": [
      "\n",
      "[notice] A new release of pip is available: 24.0 -> 25.1.1\n",
      "[notice] To update, run: python.exe -m pip install --upgrade pip\n"
     ]
    },
    {
     "name": "stdout",
     "output_type": "stream",
     "text": [
      "Requirement already satisfied: requests in c:\\users\\citra\\appdata\\local\\programs\\python\\python311\\lib\\site-packages (2.32.3)\n",
      "Requirement already satisfied: beautifulsoup4 in c:\\users\\citra\\appdata\\local\\programs\\python\\python311\\lib\\site-packages (4.13.4)\n",
      "Requirement already satisfied: pandas in c:\\users\\citra\\appdata\\local\\programs\\python\\python311\\lib\\site-packages (2.2.3)\n",
      "Requirement already satisfied: charset-normalizer<4,>=2 in c:\\users\\citra\\appdata\\local\\programs\\python\\python311\\lib\\site-packages (from requests) (3.4.2)\n",
      "Requirement already satisfied: idna<4,>=2.5 in c:\\users\\citra\\appdata\\local\\programs\\python\\python311\\lib\\site-packages (from requests) (3.10)\n",
      "Requirement already satisfied: urllib3<3,>=1.21.1 in c:\\users\\citra\\appdata\\local\\programs\\python\\python311\\lib\\site-packages (from requests) (2.4.0)\n",
      "Requirement already satisfied: certifi>=2017.4.17 in c:\\users\\citra\\appdata\\local\\programs\\python\\python311\\lib\\site-packages (from requests) (2025.4.26)\n",
      "Requirement already satisfied: soupsieve>1.2 in c:\\users\\citra\\appdata\\local\\programs\\python\\python311\\lib\\site-packages (from beautifulsoup4) (2.7)\n",
      "Requirement already satisfied: typing-extensions>=4.0.0 in c:\\users\\citra\\appdata\\local\\programs\\python\\python311\\lib\\site-packages (from beautifulsoup4) (4.13.2)\n",
      "Requirement already satisfied: numpy>=1.23.2 in c:\\users\\citra\\appdata\\local\\programs\\python\\python311\\lib\\site-packages (from pandas) (2.1.3)\n",
      "Requirement already satisfied: python-dateutil>=2.8.2 in c:\\users\\citra\\appdata\\local\\programs\\python\\python311\\lib\\site-packages (from pandas) (2.9.0.post0)\n",
      "Requirement already satisfied: pytz>=2020.1 in c:\\users\\citra\\appdata\\local\\programs\\python\\python311\\lib\\site-packages (from pandas) (2025.2)\n",
      "Requirement already satisfied: tzdata>=2022.7 in c:\\users\\citra\\appdata\\local\\programs\\python\\python311\\lib\\site-packages (from pandas) (2025.2)\n",
      "Requirement already satisfied: six>=1.5 in c:\\users\\citra\\appdata\\local\\programs\\python\\python311\\lib\\site-packages (from python-dateutil>=2.8.2->pandas) (1.17.0)\n"
     ]
    },
    {
     "name": "stderr",
     "output_type": "stream",
     "text": [
      "\n",
      "[notice] A new release of pip is available: 24.0 -> 25.1.1\n",
      "[notice] To update, run: python.exe -m pip install --upgrade pip\n"
     ]
    },
    {
     "name": "stdout",
     "output_type": "stream",
     "text": [
      "Requirement already satisfied: selenium in c:\\users\\citra\\appdata\\local\\programs\\python\\python311\\lib\\site-packages (4.33.0)\n",
      "Requirement already satisfied: urllib3~=2.4.0 in c:\\users\\citra\\appdata\\local\\programs\\python\\python311\\lib\\site-packages (from urllib3[socks]~=2.4.0->selenium) (2.4.0)\n",
      "Requirement already satisfied: trio~=0.30.0 in c:\\users\\citra\\appdata\\local\\programs\\python\\python311\\lib\\site-packages (from selenium) (0.30.0)\n",
      "Requirement already satisfied: trio-websocket~=0.12.2 in c:\\users\\citra\\appdata\\local\\programs\\python\\python311\\lib\\site-packages (from selenium) (0.12.2)\n",
      "Requirement already satisfied: certifi>=2025.4.26 in c:\\users\\citra\\appdata\\local\\programs\\python\\python311\\lib\\site-packages (from selenium) (2025.4.26)\n",
      "Requirement already satisfied: typing_extensions~=4.13.2 in c:\\users\\citra\\appdata\\local\\programs\\python\\python311\\lib\\site-packages (from selenium) (4.13.2)\n",
      "Requirement already satisfied: websocket-client~=1.8.0 in c:\\users\\citra\\appdata\\local\\programs\\python\\python311\\lib\\site-packages (from selenium) (1.8.0)\n",
      "Requirement already satisfied: attrs>=23.2.0 in c:\\users\\citra\\appdata\\local\\programs\\python\\python311\\lib\\site-packages (from trio~=0.30.0->selenium) (25.3.0)\n",
      "Requirement already satisfied: sortedcontainers in c:\\users\\citra\\appdata\\local\\programs\\python\\python311\\lib\\site-packages (from trio~=0.30.0->selenium) (2.4.0)\n",
      "Requirement already satisfied: idna in c:\\users\\citra\\appdata\\local\\programs\\python\\python311\\lib\\site-packages (from trio~=0.30.0->selenium) (3.10)\n",
      "Requirement already satisfied: outcome in c:\\users\\citra\\appdata\\local\\programs\\python\\python311\\lib\\site-packages (from trio~=0.30.0->selenium) (1.3.0.post0)\n",
      "Requirement already satisfied: sniffio>=1.3.0 in c:\\users\\citra\\appdata\\local\\programs\\python\\python311\\lib\\site-packages (from trio~=0.30.0->selenium) (1.3.1)\n",
      "Requirement already satisfied: cffi>=1.14 in c:\\users\\citra\\appdata\\local\\programs\\python\\python311\\lib\\site-packages (from trio~=0.30.0->selenium) (1.17.1)\n",
      "Requirement already satisfied: wsproto>=0.14 in c:\\users\\citra\\appdata\\local\\programs\\python\\python311\\lib\\site-packages (from trio-websocket~=0.12.2->selenium) (1.2.0)\n",
      "Requirement already satisfied: pysocks!=1.5.7,<2.0,>=1.5.6 in c:\\users\\citra\\appdata\\local\\programs\\python\\python311\\lib\\site-packages (from urllib3[socks]~=2.4.0->selenium) (1.7.1)\n",
      "Requirement already satisfied: pycparser in c:\\users\\citra\\appdata\\local\\programs\\python\\python311\\lib\\site-packages (from cffi>=1.14->trio~=0.30.0->selenium) (2.22)\n",
      "Requirement already satisfied: h11<1,>=0.9.0 in c:\\users\\citra\\appdata\\local\\programs\\python\\python311\\lib\\site-packages (from wsproto>=0.14->trio-websocket~=0.12.2->selenium) (0.16.0)\n"
     ]
    },
    {
     "name": "stderr",
     "output_type": "stream",
     "text": [
      "\n",
      "[notice] A new release of pip is available: 24.0 -> 25.1.1\n",
      "[notice] To update, run: python.exe -m pip install --upgrade pip\n"
     ]
    }
   ],
   "source": [
    "!pip install google-play-scraper\n",
    "!pip install snscrape\n",
    "!pip install pandas\n",
    "!pip install requests beautifulsoup4\n",
    "!pip install requests beautifulsoup4 pandas\n",
    "!pip install selenium"
   ]
  },
  {
   "cell_type": "code",
   "execution_count": 2,
   "id": "14183d0a-3faf-4b97-9e4f-3385322371c5",
   "metadata": {},
   "outputs": [
    {
     "name": "stdout",
     "output_type": "stream",
     "text": [
      "Requirement already satisfied: google-play-scraper in c:\\users\\citra\\appdata\\local\\programs\\python\\python311\\lib\\site-packages (1.2.7)\n"
     ]
    },
    {
     "name": "stderr",
     "output_type": "stream",
     "text": [
      "\n",
      "[notice] A new release of pip is available: 24.0 -> 25.1.1\n",
      "[notice] To update, run: python.exe -m pip install --upgrade pip\n"
     ]
    },
    {
     "name": "stdout",
     "output_type": "stream",
     "text": [
      "          userName                                            content  score\n",
      "0  Pengguna Google                                               Good      5\n",
      "1  Pengguna Google  sekarang fitur foto selfi WA jadi mirror atau ...      5\n",
      "2  Pengguna Google  Aplikasinya lumayan bagus,namun untuk status d...      4\n",
      "3  Pengguna Google                                 aplikasi ini bagus      5\n",
      "4  Pengguna Google                                      intinya bagus      5\n",
      "Total data: 10000\n"
     ]
    }
   ],
   "source": [
    "# Install library buat scraping PlayStore\n",
    "!pip install google-play-scraper\n",
    "\n",
    "# Import library-nya\n",
    "from google_play_scraper import reviews\n",
    "import pandas as pd\n",
    "\n",
    "# Ganti 'com.whatsapp' sesuai aplikasi yang kamu mau\n",
    "result, _ = reviews(\n",
    "    'com.whatsapp',                # ID aplikasi dari Play Store\n",
    "    lang='id',                     # Bahasa Indonesia\n",
    "    country='id',                   # Negara Indonesia\n",
    "    count=10000                     # Ambil 10000 review aja\n",
    ")\n",
    "\n",
    "# Convert hasil ke DataFrame\n",
    "df = pd.DataFrame(result)\n",
    "\n",
    "# Tampilkan 5 data pertama\n",
    "print(df[['userName', 'content', 'score']].head())\n",
    "\n",
    "# Cek total data\n",
    "print(\"Total data:\", len(df))\n",
    "\n",
    "# Simpan ke file CSV (kalau mau)\n",
    "df.to_csv('whatsapp_reviews.csv', index=False)"
   ]
  },
  {
   "cell_type": "code",
   "execution_count": 3,
   "id": "bbbb8861-5f45-4727-9c73-056f9bd17112",
   "metadata": {},
   "outputs": [
    {
     "name": "stdout",
     "output_type": "stream",
     "text": [
      "Folder kerja sekarang: c:\\Users\\Citra\\Documents\\.bootcamp\\Dicoding\\revisi\\rev2\\Proyek-Analisis-Sentimen-1\n"
     ]
    }
   ],
   "source": [
    "import os\n",
    "print(\"Folder kerja sekarang:\", os.getcwd())"
   ]
  },
  {
   "cell_type": "code",
   "execution_count": 4,
   "id": "c705ed87-f414-4617-945a-7c3c72229661",
   "metadata": {},
   "outputs": [
    {
     "data": {
      "text/html": [
       "<div>\n",
       "<style scoped>\n",
       "    .dataframe tbody tr th:only-of-type {\n",
       "        vertical-align: middle;\n",
       "    }\n",
       "\n",
       "    .dataframe tbody tr th {\n",
       "        vertical-align: top;\n",
       "    }\n",
       "\n",
       "    .dataframe thead th {\n",
       "        text-align: right;\n",
       "    }\n",
       "</style>\n",
       "<table border=\"1\" class=\"dataframe\">\n",
       "  <thead>\n",
       "    <tr style=\"text-align: right;\">\n",
       "      <th></th>\n",
       "      <th>reviewId</th>\n",
       "      <th>userName</th>\n",
       "      <th>userImage</th>\n",
       "      <th>content</th>\n",
       "      <th>score</th>\n",
       "      <th>thumbsUpCount</th>\n",
       "      <th>reviewCreatedVersion</th>\n",
       "      <th>at</th>\n",
       "      <th>replyContent</th>\n",
       "      <th>repliedAt</th>\n",
       "      <th>appVersion</th>\n",
       "    </tr>\n",
       "  </thead>\n",
       "  <tbody>\n",
       "    <tr>\n",
       "      <th>0</th>\n",
       "      <td>0bb8eb2e-8d36-4e7d-8546-c019b2735d76</td>\n",
       "      <td>Pengguna Google</td>\n",
       "      <td>https://play-lh.googleusercontent.com/EGemoI2N...</td>\n",
       "      <td>Good</td>\n",
       "      <td>5</td>\n",
       "      <td>0</td>\n",
       "      <td>2.25.17.80</td>\n",
       "      <td>2025-06-14 17:42:11</td>\n",
       "      <td>NaN</td>\n",
       "      <td>NaN</td>\n",
       "      <td>2.25.17.80</td>\n",
       "    </tr>\n",
       "    <tr>\n",
       "      <th>1</th>\n",
       "      <td>add434bd-51ee-450e-abd4-10a790976d7b</td>\n",
       "      <td>Pengguna Google</td>\n",
       "      <td>https://play-lh.googleusercontent.com/EGemoI2N...</td>\n",
       "      <td>sekarang fitur foto selfi WA jadi mirror atau ...</td>\n",
       "      <td>5</td>\n",
       "      <td>0</td>\n",
       "      <td>2.25.17.80</td>\n",
       "      <td>2025-06-14 17:41:13</td>\n",
       "      <td>NaN</td>\n",
       "      <td>NaN</td>\n",
       "      <td>2.25.17.80</td>\n",
       "    </tr>\n",
       "    <tr>\n",
       "      <th>2</th>\n",
       "      <td>30708eef-0521-4441-a1a9-a3594c660b39</td>\n",
       "      <td>Pengguna Google</td>\n",
       "      <td>https://play-lh.googleusercontent.com/EGemoI2N...</td>\n",
       "      <td>Aplikasinya lumayan bagus,namun untuk status d...</td>\n",
       "      <td>4</td>\n",
       "      <td>0</td>\n",
       "      <td>2.25.17.80</td>\n",
       "      <td>2025-06-14 17:39:21</td>\n",
       "      <td>NaN</td>\n",
       "      <td>NaN</td>\n",
       "      <td>2.25.17.80</td>\n",
       "    </tr>\n",
       "    <tr>\n",
       "      <th>3</th>\n",
       "      <td>aabc5f01-9a26-49fc-9f96-d9cb1bc9cbad</td>\n",
       "      <td>Pengguna Google</td>\n",
       "      <td>https://play-lh.googleusercontent.com/EGemoI2N...</td>\n",
       "      <td>aplikasi ini bagus</td>\n",
       "      <td>5</td>\n",
       "      <td>0</td>\n",
       "      <td>NaN</td>\n",
       "      <td>2025-06-14 17:39:03</td>\n",
       "      <td>NaN</td>\n",
       "      <td>NaN</td>\n",
       "      <td>NaN</td>\n",
       "    </tr>\n",
       "    <tr>\n",
       "      <th>4</th>\n",
       "      <td>9da010dc-aa65-4800-bac0-c5e7aa9784b7</td>\n",
       "      <td>Pengguna Google</td>\n",
       "      <td>https://play-lh.googleusercontent.com/EGemoI2N...</td>\n",
       "      <td>intinya bagus</td>\n",
       "      <td>5</td>\n",
       "      <td>0</td>\n",
       "      <td>2.25.17.80</td>\n",
       "      <td>2025-06-14 17:38:35</td>\n",
       "      <td>NaN</td>\n",
       "      <td>NaN</td>\n",
       "      <td>2.25.17.80</td>\n",
       "    </tr>\n",
       "  </tbody>\n",
       "</table>\n",
       "</div>"
      ],
      "text/plain": [
       "                               reviewId         userName  \\\n",
       "0  0bb8eb2e-8d36-4e7d-8546-c019b2735d76  Pengguna Google   \n",
       "1  add434bd-51ee-450e-abd4-10a790976d7b  Pengguna Google   \n",
       "2  30708eef-0521-4441-a1a9-a3594c660b39  Pengguna Google   \n",
       "3  aabc5f01-9a26-49fc-9f96-d9cb1bc9cbad  Pengguna Google   \n",
       "4  9da010dc-aa65-4800-bac0-c5e7aa9784b7  Pengguna Google   \n",
       "\n",
       "                                           userImage  \\\n",
       "0  https://play-lh.googleusercontent.com/EGemoI2N...   \n",
       "1  https://play-lh.googleusercontent.com/EGemoI2N...   \n",
       "2  https://play-lh.googleusercontent.com/EGemoI2N...   \n",
       "3  https://play-lh.googleusercontent.com/EGemoI2N...   \n",
       "4  https://play-lh.googleusercontent.com/EGemoI2N...   \n",
       "\n",
       "                                             content  score  thumbsUpCount  \\\n",
       "0                                               Good      5              0   \n",
       "1  sekarang fitur foto selfi WA jadi mirror atau ...      5              0   \n",
       "2  Aplikasinya lumayan bagus,namun untuk status d...      4              0   \n",
       "3                                 aplikasi ini bagus      5              0   \n",
       "4                                      intinya bagus      5              0   \n",
       "\n",
       "  reviewCreatedVersion                   at  replyContent  repliedAt  \\\n",
       "0           2.25.17.80  2025-06-14 17:42:11           NaN        NaN   \n",
       "1           2.25.17.80  2025-06-14 17:41:13           NaN        NaN   \n",
       "2           2.25.17.80  2025-06-14 17:39:21           NaN        NaN   \n",
       "3                  NaN  2025-06-14 17:39:03           NaN        NaN   \n",
       "4           2.25.17.80  2025-06-14 17:38:35           NaN        NaN   \n",
       "\n",
       "   appVersion  \n",
       "0  2.25.17.80  \n",
       "1  2.25.17.80  \n",
       "2  2.25.17.80  \n",
       "3         NaN  \n",
       "4  2.25.17.80  "
      ]
     },
     "execution_count": 4,
     "metadata": {},
     "output_type": "execute_result"
    }
   ],
   "source": [
    "import pandas as pd\n",
    "df = pd.read_csv('whatsapp_reviews.csv')\n",
    "df.head()"
   ]
  }
 ],
 "metadata": {
  "kernelspec": {
   "display_name": "Python 3",
   "language": "python",
   "name": "python3"
  },
  "language_info": {
   "codemirror_mode": {
    "name": "ipython",
    "version": 3
   },
   "file_extension": ".py",
   "mimetype": "text/x-python",
   "name": "python",
   "nbconvert_exporter": "python",
   "pygments_lexer": "ipython3",
   "version": "3.11.9"
  }
 },
 "nbformat": 4,
 "nbformat_minor": 5
}
