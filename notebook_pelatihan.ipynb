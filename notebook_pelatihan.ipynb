{
 "cells": [
  {
   "cell_type": "markdown",
   "id": "ff3bd132",
   "metadata": {},
   "source": [
    "1. Install dan Import Library"
   ]
  },
  {
   "cell_type": "code",
   "execution_count": 1,
   "id": "b444340a",
   "metadata": {},
   "outputs": [
    {
     "name": "stderr",
     "output_type": "stream",
     "text": [
      "\n",
      "[notice] A new release of pip is available: 24.0 -> 25.1.1\n",
      "[notice] To update, run: python.exe -m pip install --upgrade pip\n"
     ]
    },
    {
     "name": "stdout",
     "output_type": "stream",
     "text": [
      "Requirement already satisfied: nltk in c:\\users\\citra\\appdata\\local\\programs\\python\\python311\\lib\\site-packages (3.9.1)\n",
      "Requirement already satisfied: Sastrawi in c:\\users\\citra\\appdata\\local\\programs\\python\\python311\\lib\\site-packages (1.0.1)\n",
      "Requirement already satisfied: pandas in c:\\users\\citra\\appdata\\local\\programs\\python\\python311\\lib\\site-packages (2.2.3)\n",
      "Requirement already satisfied: scikit-learn in c:\\users\\citra\\appdata\\local\\programs\\python\\python311\\lib\\site-packages (1.6.1)\n",
      "Requirement already satisfied: click in c:\\users\\citra\\appdata\\local\\programs\\python\\python311\\lib\\site-packages (from nltk) (8.2.1)\n",
      "Requirement already satisfied: joblib in c:\\users\\citra\\appdata\\local\\programs\\python\\python311\\lib\\site-packages (from nltk) (1.5.1)\n",
      "Requirement already satisfied: regex>=2021.8.3 in c:\\users\\citra\\appdata\\local\\programs\\python\\python311\\lib\\site-packages (from nltk) (2024.11.6)\n",
      "Requirement already satisfied: tqdm in c:\\users\\citra\\appdata\\local\\programs\\python\\python311\\lib\\site-packages (from nltk) (4.67.1)\n",
      "Requirement already satisfied: numpy>=1.23.2 in c:\\users\\citra\\appdata\\local\\programs\\python\\python311\\lib\\site-packages (from pandas) (2.1.3)\n",
      "Requirement already satisfied: python-dateutil>=2.8.2 in c:\\users\\citra\\appdata\\local\\programs\\python\\python311\\lib\\site-packages (from pandas) (2.9.0.post0)\n",
      "Requirement already satisfied: pytz>=2020.1 in c:\\users\\citra\\appdata\\local\\programs\\python\\python311\\lib\\site-packages (from pandas) (2025.2)\n",
      "Requirement already satisfied: tzdata>=2022.7 in c:\\users\\citra\\appdata\\local\\programs\\python\\python311\\lib\\site-packages (from pandas) (2025.2)\n",
      "Requirement already satisfied: scipy>=1.6.0 in c:\\users\\citra\\appdata\\local\\programs\\python\\python311\\lib\\site-packages (from scikit-learn) (1.15.3)\n",
      "Requirement already satisfied: threadpoolctl>=3.1.0 in c:\\users\\citra\\appdata\\local\\programs\\python\\python311\\lib\\site-packages (from scikit-learn) (3.6.0)\n",
      "Requirement already satisfied: six>=1.5 in c:\\users\\citra\\appdata\\local\\programs\\python\\python311\\lib\\site-packages (from python-dateutil>=2.8.2->pandas) (1.17.0)\n",
      "Requirement already satisfied: colorama in c:\\users\\citra\\appdata\\local\\programs\\python\\python311\\lib\\site-packages (from click->nltk) (0.4.6)\n"
     ]
    }
   ],
   "source": [
    "!pip install nltk Sastrawi pandas scikit-learn\n",
    "\n",
    "import pandas as pd\n",
    "import numpy as np\n",
    "import re, string\n",
    "from nltk.tokenize import word_tokenize\n",
    "from nltk.corpus import stopwords\n",
    "from Sastrawi.StopWordRemover.StopWordRemoverFactory import StopWordRemoverFactory\n",
    "from sklearn.feature_extraction.text import TfidfVectorizer, CountVectorizer\n",
    "from sklearn.model_selection import train_test_split\n",
    "from sklearn.svm import SVC\n",
    "from sklearn.ensemble import RandomForestClassifier\n",
    "from sklearn.naive_bayes import MultinomialNB\n",
    "from sklearn.linear_model import LogisticRegression\n",
    "from sklearn.metrics import classification_report, confusion_matrix, accuracy_score"
   ]
  },
  {
   "cell_type": "markdown",
   "id": "8189d17f",
   "metadata": {},
   "source": [
    "2. Load Dataset Hasil Scraping"
   ]
  },
  {
   "cell_type": "code",
   "execution_count": 2,
   "id": "69c66bd3",
   "metadata": {},
   "outputs": [
    {
     "name": "stdout",
     "output_type": "stream",
     "text": [
      "Jumlah data: 10000\n"
     ]
    }
   ],
   "source": [
    "df = pd.read_csv(\"whatsapp_reviews.csv\")\n",
    "print(\"Jumlah data:\", len(df))\n",
    "df = df[['content']] "
   ]
  },
  {
   "cell_type": "code",
   "execution_count": 3,
   "id": "55e6c206",
   "metadata": {},
   "outputs": [
    {
     "data": {
      "text/html": [
       "<div>\n",
       "<style scoped>\n",
       "    .dataframe tbody tr th:only-of-type {\n",
       "        vertical-align: middle;\n",
       "    }\n",
       "\n",
       "    .dataframe tbody tr th {\n",
       "        vertical-align: top;\n",
       "    }\n",
       "\n",
       "    .dataframe thead th {\n",
       "        text-align: right;\n",
       "    }\n",
       "</style>\n",
       "<table border=\"1\" class=\"dataframe\">\n",
       "  <thead>\n",
       "    <tr style=\"text-align: right;\">\n",
       "      <th></th>\n",
       "      <th>content</th>\n",
       "    </tr>\n",
       "  </thead>\n",
       "  <tbody>\n",
       "    <tr>\n",
       "      <th>0</th>\n",
       "      <td>Good</td>\n",
       "    </tr>\n",
       "    <tr>\n",
       "      <th>1</th>\n",
       "      <td>sekarang fitur foto selfi WA jadi mirror atau ...</td>\n",
       "    </tr>\n",
       "    <tr>\n",
       "      <th>2</th>\n",
       "      <td>Aplikasinya lumayan bagus,namun untuk status d...</td>\n",
       "    </tr>\n",
       "    <tr>\n",
       "      <th>3</th>\n",
       "      <td>aplikasi ini bagus</td>\n",
       "    </tr>\n",
       "    <tr>\n",
       "      <th>4</th>\n",
       "      <td>intinya bagus</td>\n",
       "    </tr>\n",
       "  </tbody>\n",
       "</table>\n",
       "</div>"
      ],
      "text/plain": [
       "                                             content\n",
       "0                                               Good\n",
       "1  sekarang fitur foto selfi WA jadi mirror atau ...\n",
       "2  Aplikasinya lumayan bagus,namun untuk status d...\n",
       "3                                 aplikasi ini bagus\n",
       "4                                      intinya bagus"
      ]
     },
     "execution_count": 3,
     "metadata": {},
     "output_type": "execute_result"
    }
   ],
   "source": [
    "df.head()"
   ]
  },
  {
   "cell_type": "code",
   "execution_count": 4,
   "id": "f6a67513",
   "metadata": {},
   "outputs": [
    {
     "data": {
      "text/plain": [
       "Index(['content'], dtype='object')"
      ]
     },
     "execution_count": 4,
     "metadata": {},
     "output_type": "execute_result"
    }
   ],
   "source": [
    "df.columns"
   ]
  },
  {
   "cell_type": "markdown",
   "id": "a28b063b",
   "metadata": {},
   "source": [
    "3. Preprocessing Teks"
   ]
  },
  {
   "cell_type": "code",
   "execution_count": 5,
   "id": "6be46959",
   "metadata": {},
   "outputs": [],
   "source": [
    "def clean_text(text):\n",
    "    # Hapus emoji\n",
    "    text = text.encode('ascii', 'ignore').decode('ascii')\n",
    "    # Lowercase\n",
    "    text = text.lower()\n",
    "    # Hapus URL\n",
    "    text = re.sub(r'http\\S+|www.\\S+', '', text)\n",
    "    # Hapus angka\n",
    "    text = re.sub(r'\\d+', '', text)\n",
    "    # Hapus tanda baca\n",
    "    text = text.translate(str.maketrans('', '', string.punctuation))\n",
    "    # Hapus spasi berlebih\n",
    "    text = re.sub(r'\\s+', ' ', text).strip()\n",
    "    return text\n",
    "\n",
    "df['cleaned'] = df['content'].astype(str).apply(clean_text)"
   ]
  },
  {
   "cell_type": "code",
   "execution_count": 6,
   "id": "2bf037a7",
   "metadata": {},
   "outputs": [
    {
     "data": {
      "text/html": [
       "<div>\n",
       "<style scoped>\n",
       "    .dataframe tbody tr th:only-of-type {\n",
       "        vertical-align: middle;\n",
       "    }\n",
       "\n",
       "    .dataframe tbody tr th {\n",
       "        vertical-align: top;\n",
       "    }\n",
       "\n",
       "    .dataframe thead th {\n",
       "        text-align: right;\n",
       "    }\n",
       "</style>\n",
       "<table border=\"1\" class=\"dataframe\">\n",
       "  <thead>\n",
       "    <tr style=\"text-align: right;\">\n",
       "      <th></th>\n",
       "      <th>content</th>\n",
       "      <th>cleaned</th>\n",
       "    </tr>\n",
       "  </thead>\n",
       "  <tbody>\n",
       "    <tr>\n",
       "      <th>0</th>\n",
       "      <td>Good</td>\n",
       "      <td>good</td>\n",
       "    </tr>\n",
       "    <tr>\n",
       "      <th>1</th>\n",
       "      <td>sekarang fitur foto selfi WA jadi mirror atau ...</td>\n",
       "      <td>sekarang fitur foto selfi wa jadi mirror atau ...</td>\n",
       "    </tr>\n",
       "    <tr>\n",
       "      <th>2</th>\n",
       "      <td>Aplikasinya lumayan bagus,namun untuk status d...</td>\n",
       "      <td>aplikasinya lumayan bagusnamun untuk status da...</td>\n",
       "    </tr>\n",
       "    <tr>\n",
       "      <th>3</th>\n",
       "      <td>aplikasi ini bagus</td>\n",
       "      <td>aplikasi ini bagus</td>\n",
       "    </tr>\n",
       "    <tr>\n",
       "      <th>4</th>\n",
       "      <td>intinya bagus</td>\n",
       "      <td>intinya bagus</td>\n",
       "    </tr>\n",
       "  </tbody>\n",
       "</table>\n",
       "</div>"
      ],
      "text/plain": [
       "                                             content  \\\n",
       "0                                               Good   \n",
       "1  sekarang fitur foto selfi WA jadi mirror atau ...   \n",
       "2  Aplikasinya lumayan bagus,namun untuk status d...   \n",
       "3                                 aplikasi ini bagus   \n",
       "4                                      intinya bagus   \n",
       "\n",
       "                                             cleaned  \n",
       "0                                               good  \n",
       "1  sekarang fitur foto selfi wa jadi mirror atau ...  \n",
       "2  aplikasinya lumayan bagusnamun untuk status da...  \n",
       "3                                 aplikasi ini bagus  \n",
       "4                                      intinya bagus  "
      ]
     },
     "execution_count": 6,
     "metadata": {},
     "output_type": "execute_result"
    }
   ],
   "source": [
    "df[['content', 'cleaned']].head()"
   ]
  },
  {
   "cell_type": "markdown",
   "id": "cf378bf2",
   "metadata": {},
   "source": [
    "4. Labeling Manual Berdasarkan Keyword"
   ]
  },
  {
   "cell_type": "code",
   "execution_count": 7,
   "id": "5ac6c111",
   "metadata": {},
   "outputs": [],
   "source": [
    "positive_keywords = ['bagus', 'baik', 'mantap', 'suka', 'puas', 'keren', 'cepat', 'mudah', 'memuaskan']\n",
    "negative_keywords = ['jelek', 'buruk', 'parah', 'tidak suka', 'kecewa', 'lemot', 'error', 'macet', 'lambat']\n",
    "\n",
    "def label_sentiment(text):\n",
    "    for word in positive_keywords:\n",
    "        if word in text:\n",
    "            return 'positif'\n",
    "    for word in negative_keywords:\n",
    "        if word in text:\n",
    "            return 'negatif'\n",
    "    return 'netral'\n",
    "\n",
    "df['sentiment'] = df['cleaned'].apply(label_sentiment)"
   ]
  },
  {
   "cell_type": "markdown",
   "id": "aca48239",
   "metadata": {},
   "source": [
    "Menyimpan hasil preprocessing"
   ]
  },
  {
   "cell_type": "code",
   "execution_count": 8,
   "id": "066db6fa",
   "metadata": {},
   "outputs": [],
   "source": [
    "df.to_csv(\"whatsapp_preprocessed_labeled.csv\", index=False)"
   ]
  },
  {
   "cell_type": "markdown",
   "id": "2d6933db",
   "metadata": {},
   "source": [
    "5. Persiapan Dataset untuk Model"
   ]
  },
  {
   "cell_type": "code",
   "execution_count": 9,
   "id": "1f8071c9",
   "metadata": {},
   "outputs": [],
   "source": [
    "df = df.dropna(subset=['cleaned', 'sentiment']).reset_index(drop=True)\n",
    "X_text = df['cleaned'].astype(str)\n",
    "y = df['sentiment']"
   ]
  },
  {
   "cell_type": "markdown",
   "id": "6346f127",
   "metadata": {},
   "source": [
    "TF-IDF Vectorizer"
   ]
  },
  {
   "cell_type": "code",
   "execution_count": 10,
   "id": "32b4a176",
   "metadata": {},
   "outputs": [],
   "source": [
    "tfidf = TfidfVectorizer()\n",
    "X_tfidf = tfidf.fit_transform(X_text)"
   ]
  },
  {
   "cell_type": "markdown",
   "id": "a06adaf8",
   "metadata": {},
   "source": [
    "6. Split Data"
   ]
  },
  {
   "cell_type": "code",
   "execution_count": 11,
   "id": "674885f4",
   "metadata": {},
   "outputs": [],
   "source": [
    "X_train, X_test, y_train, y_test = train_test_split(X_tfidf, y, test_size=0.2, random_state=42)"
   ]
  },
  {
   "cell_type": "markdown",
   "id": "d93400cf",
   "metadata": {},
   "source": [
    "7. Training dan Evaluasi Model"
   ]
  },
  {
   "cell_type": "code",
   "execution_count": 12,
   "id": "46f447e5",
   "metadata": {},
   "outputs": [
    {
     "name": "stdout",
     "output_type": "stream",
     "text": [
      "=== SVM + TF-IDF ===\n",
      "Accuracy: 0.945\n",
      "Classification Report:\n",
      "               precision    recall  f1-score   support\n",
      "\n",
      "     negatif       0.96      0.42      0.58        55\n",
      "      netral       0.91      1.00      0.96      1157\n",
      "     positif       1.00      0.90      0.95       788\n",
      "\n",
      "    accuracy                           0.94      2000\n",
      "   macro avg       0.96      0.77      0.83      2000\n",
      "weighted avg       0.95      0.94      0.94      2000\n",
      "\n",
      "Confusion Matrix:\n",
      " [[  23   32    0]\n",
      " [   0 1157    0]\n",
      " [   1   77  710]]\n"
     ]
    }
   ],
   "source": [
    "svm_model = SVC()\n",
    "svm_model.fit(X_train, y_train)\n",
    "y_pred_svm = svm_model.predict(X_test)\n",
    "\n",
    "print(\"=== SVM + TF-IDF ===\")\n",
    "print(\"Accuracy:\", accuracy_score(y_test, y_pred_svm))\n",
    "print(\"Classification Report:\\n\", classification_report(y_test, y_pred_svm))\n",
    "print(\"Confusion Matrix:\\n\", confusion_matrix(y_test, y_pred_svm))"
   ]
  }
 ],
 "metadata": {
  "kernelspec": {
   "display_name": "Python 3",
   "language": "python",
   "name": "python3"
  },
  "language_info": {
   "codemirror_mode": {
    "name": "ipython",
    "version": 3
   },
   "file_extension": ".py",
   "mimetype": "text/x-python",
   "name": "python",
   "nbconvert_exporter": "python",
   "pygments_lexer": "ipython3",
   "version": "3.11.9"
  }
 },
 "nbformat": 4,
 "nbformat_minor": 5
}
