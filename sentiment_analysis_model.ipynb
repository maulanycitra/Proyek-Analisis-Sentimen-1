{
 "cells": [
  {
   "cell_type": "code",
   "execution_count": 1,
   "id": "414efe76-662c-4eec-b889-ade690b731d4",
   "metadata": {},
   "outputs": [],
   "source": [
    "import pandas as pd\n",
    "import numpy as np\n",
    "from sklearn.feature_extraction.text import TfidfVectorizer, CountVectorizer\n",
    "from sklearn.model_selection import train_test_split\n",
    "from sklearn.svm import SVC\n",
    "from sklearn.ensemble import RandomForestClassifier\n",
    "from sklearn.naive_bayes import MultinomialNB\n",
    "from sklearn.linear_model import LogisticRegression\n",
    "from sklearn.metrics import classification_report, confusion_matrix, accuracy_score"
   ]
  },
  {
   "cell_type": "code",
   "execution_count": 2,
   "id": "e1a93141-1e3c-4d5c-95ea-fed0820208c2",
   "metadata": {},
   "outputs": [],
   "source": [
    "# Load data hasil preprocessing & pelabelan\n",
    "df = pd.read_csv(\"whatsapp_preprocessed_labeled.csv\")\n",
    "\n",
    "# Hapus baris yang memiliki nilai NaN di kolom cleaned atau sentiment\n",
    "df = df.dropna(subset=['cleaned', 'sentiment'])\n",
    "\n",
    "# Reset index setelah drop\n",
    "df = df.reset_index(drop=True)\n",
    "\n",
    "# Pisahkan X dan y\n",
    "X_text = df['cleaned'].astype(str)  # pastikan bentuknya string\n",
    "y = df['sentiment']\n",
    "\n",
    "# TF-IDF Vectorizer\n",
    "tfidf = TfidfVectorizer()\n",
    "X_tfidf = tfidf.fit_transform(X_text)\n",
    "\n",
    "# CountVectorizer (jika dibutuhkan)\n",
    "count = CountVectorizer()\n",
    "X_count = count.fit_transform(X_text)"
   ]
  },
  {
   "cell_type": "code",
   "execution_count": 3,
   "id": "552e6629-4340-4316-b2f2-a2ec3d990241",
   "metadata": {},
   "outputs": [],
   "source": [
    "X_train, X_test, y_train, y_test = train_test_split(X_tfidf, y, test_size=0.2, random_state=42)"
   ]
  },
  {
   "cell_type": "code",
   "execution_count": 4,
   "id": "a8ffe261-5772-4560-9f57-de7794d83e7c",
   "metadata": {},
   "outputs": [
    {
     "name": "stdout",
     "output_type": "stream",
     "text": [
      "SVM + TF-IDF\n",
      "Accuracy: 0.9339095068632435\n",
      "              precision    recall  f1-score   support\n",
      "\n",
      "     negatif       1.00      0.27      0.43        70\n",
      "      netral       0.90      1.00      0.95      1200\n",
      "     positif       1.00      0.89      0.94       697\n",
      "\n",
      "    accuracy                           0.93      1967\n",
      "   macro avg       0.97      0.72      0.77      1967\n",
      "weighted avg       0.94      0.93      0.93      1967\n",
      "\n",
      "[[  19   51    0]\n",
      " [   0 1200    0]\n",
      " [   0   79  618]]\n"
     ]
    }
   ],
   "source": [
    "svm_model = SVC()\n",
    "svm_model.fit(X_train, y_train)\n",
    "y_pred_svm = svm_model.predict(X_test)\n",
    "\n",
    "print(\"SVM + TF-IDF\")\n",
    "print(\"Accuracy:\", accuracy_score(y_test, y_pred_svm))\n",
    "print(classification_report(y_test, y_pred_svm))\n",
    "print(confusion_matrix(y_test, y_pred_svm))"
   ]
  }
 ],
 "metadata": {
  "kernelspec": {
   "display_name": "Python 3",
   "language": "python",
   "name": "python3"
  },
  "language_info": {
   "codemirror_mode": {
    "name": "ipython",
    "version": 3
   },
   "file_extension": ".py",
   "mimetype": "text/x-python",
   "name": "python",
   "nbconvert_exporter": "python",
   "pygments_lexer": "ipython3",
   "version": "3.11.9"
  }
 },
 "nbformat": 4,
 "nbformat_minor": 5
}
